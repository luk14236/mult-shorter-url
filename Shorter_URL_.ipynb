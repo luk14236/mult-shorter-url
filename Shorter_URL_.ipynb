{
  "nbformat": 4,
  "nbformat_minor": 0,
  "metadata": {
    "colab": {
      "provenance": [],
      "authorship_tag": "ABX9TyOT49IRP0TyWXeG4cHbFmWY"
    },
    "kernelspec": {
      "name": "python3",
      "display_name": "Python 3"
    },
    "language_info": {
      "name": "python"
    }
  },
  "cells": [
    {
      "cell_type": "code",
      "metadata": {
        "colab": {
          "base_uri": "https://localhost:8080/"
        },
        "id": "t2KM-VHNnlj2",
        "outputId": "166822a5-f298-4bed-ebc7-8329f146f906"
      },
      "source": [
        "!pip install pyshorteners\n"
      ],
      "execution_count": 12,
      "outputs": [
        {
          "output_type": "stream",
          "name": "stdout",
          "text": [
            "Requirement already satisfied: pyshorteners in /usr/local/lib/python3.10/dist-packages (1.0.1)\n",
            "Requirement already satisfied: requests in /usr/local/lib/python3.10/dist-packages (from pyshorteners) (2.31.0)\n",
            "Requirement already satisfied: charset-normalizer<4,>=2 in /usr/local/lib/python3.10/dist-packages (from requests->pyshorteners) (3.3.2)\n",
            "Requirement already satisfied: idna<4,>=2.5 in /usr/local/lib/python3.10/dist-packages (from requests->pyshorteners) (3.6)\n",
            "Requirement already satisfied: urllib3<3,>=1.21.1 in /usr/local/lib/python3.10/dist-packages (from requests->pyshorteners) (2.0.7)\n",
            "Requirement already satisfied: certifi>=2017.4.17 in /usr/local/lib/python3.10/dist-packages (from requests->pyshorteners) (2024.2.2)\n"
          ]
        }
      ]
    },
    {
      "cell_type": "code",
      "metadata": {
        "id": "t_wcVZ7HntBK"
      },
      "source": [
        "import pyshorteners"
      ],
      "execution_count": 13,
      "outputs": []
    },
    {
      "cell_type": "code",
      "source": [
        "s = pyshorteners.Shortener()"
      ],
      "metadata": {
        "id": "aqqRDumKkWe_"
      },
      "execution_count": 18,
      "outputs": []
    },
    {
      "cell_type": "code",
      "metadata": {
        "id": "r74dhuXlqJ8J"
      },
      "source": [
        "def get_short_url(url:str):\n",
        "  try:\n",
        "    return s.tinyurl.short(url)\n",
        "  except:\n",
        "    print('tinyurl stoped.')\n",
        "\n",
        "  try:\n",
        "    return s.chilpit.short(url)\n",
        "  except:\n",
        "    print('chilpit stoped.')\n",
        "\n",
        "  try:\n",
        "    return s.clckru.short(url)\n",
        "  except:\n",
        "    print('clckru stoped.')\n",
        "\n",
        "  try:\n",
        "    return s.dagd.short(url)\n",
        "  except:\n",
        "    print('dagd stoped.')\n",
        "\n",
        "  try:\n",
        "    return s.isgd.short(url)\n",
        "  except:\n",
        "    print('isgd stoped.')\n",
        "\n",
        "  try:\n",
        "    return s.osdb.short(url)\n",
        "  except:\n",
        "    print('osdb stoped.')\n",
        "\n",
        "  try:\n",
        "    return s.owly.short(url)\n",
        "  except:\n",
        "    print('owly stoped.')\n",
        "\n",
        "  try:\n",
        "    return s.qpsru.short(url)\n",
        "  except:\n",
        "    print('qpsru stoped.')\n",
        "\n",
        "  try:\n",
        "    return s.tinyurl.short(url)\n",
        "  except:\n",
        "    print('tinyurl stoped.')\n",
        "\n",
        ""
      ],
      "execution_count": 20,
      "outputs": []
    },
    {
      "cell_type": "code",
      "metadata": {
        "colab": {
          "base_uri": "https://localhost:8080/",
          "height": 35
        },
        "id": "dnkHe2NUs5Ic",
        "outputId": "a1cdf31a-7e65-4e42-b7a5-01f5145d46cb"
      },
      "source": [
        "get_short_url('https://pyshorteners.readthedocs.io/en/latest/')"
      ],
      "execution_count": 21,
      "outputs": [
        {
          "output_type": "execute_result",
          "data": {
            "text/plain": [
              "'https://tinyurl.com/yyenhxrj'"
            ],
            "application/vnd.google.colaboratory.intrinsic+json": {
              "type": "string"
            }
          },
          "metadata": {},
          "execution_count": 21
        }
      ]
    },
    {
      "cell_type": "code",
      "source": [],
      "metadata": {
        "id": "XQGt6XwGkOoQ"
      },
      "execution_count": null,
      "outputs": []
    }
  ]
}